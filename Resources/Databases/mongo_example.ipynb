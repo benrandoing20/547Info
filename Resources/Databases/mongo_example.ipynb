{
 "cells": [
  {
   "cell_type": "markdown",
   "metadata": {},
   "source": [
    "# MongoDB from Python\n",
    "This notebook introduces how we can talk to a running instance of `MongoDB` from a python program. Any python program can fetch data from or put data into `MongoDB`--it could be a standalone program like this, an `iPython` shell, or your `Flask` server.\n",
    "\n",
    "First, we must connect to a running instance of `MongoDB`. Remember that `MongoDB` is just a program that stores and allows effecient querying of data. It can be running anywhere--on your machine (`localhost` or `127.0.0.1`), or perhaps a machine in the cloud (`vcm-0000.vm.duke.edu`), or a MongoDB Cloud server. This notebook demonstrates connecting to a MongoDB Atlas cloud database.  We connect to it as follows:"
   ]
  },
  {
   "cell_type": "code",
   "execution_count": 1,
   "metadata": {},
   "outputs": [
    {
     "ename": "ModuleNotFoundError",
     "evalue": "No module named 'pymodm'",
     "traceback": [
      "\u001b[1;31m---------------------------------------------------------------------------\u001b[0m",
      "\u001b[1;31mModuleNotFoundError\u001b[0m                       Traceback (most recent call last)",
      "\u001b[1;32m<ipython-input-1-dbd7dc294467>\u001b[0m in \u001b[0;36m<module>\u001b[1;34m\u001b[0m\n\u001b[1;32m----> 1\u001b[1;33m \u001b[1;32mfrom\u001b[0m \u001b[0mpymodm\u001b[0m \u001b[1;32mimport\u001b[0m \u001b[0mconnect\u001b[0m\u001b[1;33m\u001b[0m\u001b[1;33m\u001b[0m\u001b[0m\n\u001b[0m",
      "\u001b[1;31mModuleNotFoundError\u001b[0m: No module named 'pymodm'"
     ],
     "output_type": "error"
    }
   ],
   "source": [
    "from pymodm import connect"
   ]
  },
  {
   "cell_type": "code",
   "execution_count": 17,
   "metadata": {},
   "outputs": [],
   "source": [
    "connect(\"mongodb+srv://<username>:<password>@<clustername>-ba348.mongodb.net/<folder>?retryWrites=true&w=majority\") # Connect to a mongodb database running 192.168.0.10:27017"
   ]
  },
  {
   "cell_type": "markdown",
   "metadata": {},
   "source": [
    "In the above command, replace the string in the `connect()` function with the string you obtained from the MongoDB Atlas on-line interface.  Your string will already have the `<username>`, `<clustername>` and `<folder>` populated with the correct entries for your database.  You will need to provide the `<password>` you created when making the `<username>` database access account.\n",
    "\n",
    "The `<folder>` portion of the connection URL above specifies which MongoDB database or \"folder\" we want to talk to. Each `MongoDB` instance can have multiple \"databases\" that are independant of each other. Just think of this as a namespace. If we connect to `example2` instead and it does not exist, a blank database will be created under the namespace `/example2`.  You can change this `<folder>` to whatever you want."
   ]
  },
  {
   "cell_type": "markdown",
   "metadata": {},
   "source": [
    "## Models (schemas)\n",
    "MongoDB is very forgiving, and does not _require_ us to specify what collections (tables) we want to store upfront, nor do we have to specify the structure of data we are going to store.\n",
    "\n",
    "**However**, it is very useful and important to specify some of this structure in advance, so that it is clear in your code what your expectation of data structure is going to be. For example, if we want to store a `User` in the databse, we want it to be very clear in the code what fields a User is going to have and what types each of those fields will be. This allows for validation when storing and retreiving `User`s. \n",
    "\n",
    "An example of a \"model\" or schema definition for our MongoDB interface library (`pymodm`) is below."
   ]
  },
  {
   "cell_type": "code",
   "execution_count": 7,
   "metadata": {},
   "outputs": [],
   "source": [
    "from pymodm import MongoModel, fields\n",
    "class User(MongoModel):\n",
    "    email = fields.EmailField(primary_key=True)\n",
    "    first_name = fields.CharField()\n",
    "    last_name = fields.CharField()\n",
    "    age = fields.IntegerField()"
   ]
  },
  {
   "cell_type": "markdown",
   "metadata": {},
   "source": [
    "As you can see, this `User` is just a normal old python class. Since it inherits from the `MongoModel` class, it has many existing methods and properties, including an initialization method that is based on the fields (like `email`) we specified.\n",
    "\n",
    "We can use and interact with `User` and its properties (variables) like a normal python class.  See the examples below."
   ]
  },
  {
   "cell_type": "code",
   "execution_count": 8,
   "metadata": {},
   "outputs": [
    {
     "name": "stdout",
     "output_type": "stream",
     "text": [
      "<User object>\n"
     ]
    }
   ],
   "source": [
    "u = User(email=\"suyash@suyashkumar.com\", first_name=\"Suyash\", last_name=\"Kumar\", age=\"1000\")\n",
    "print(u)"
   ]
  },
  {
   "cell_type": "code",
   "execution_count": 9,
   "metadata": {},
   "outputs": [
    {
     "name": "stdout",
     "output_type": "stream",
     "text": [
      "suyash@suyashkumar.com\n"
     ]
    }
   ],
   "source": [
    "print(u.email)"
   ]
  },
  {
   "cell_type": "code",
   "execution_count": 15,
   "metadata": {},
   "outputs": [
    {
     "name": "stdout",
     "output_type": "stream",
     "text": [
      "Suyash\n"
     ]
    }
   ],
   "source": [
    "print(u.first_name)"
   ]
  },
  {
   "cell_type": "markdown",
   "metadata": {},
   "source": [
    "## Save a User\n",
    "The `User` class has some methods that allow us to interact with the MongoDB database. For example, if we want to save this `User` `u` to the MongoDB database we connected to we can simply call:"
   ]
  },
  {
   "cell_type": "code",
   "execution_count": 18,
   "metadata": {},
   "outputs": [
    {
     "data": {
      "text/plain": [
       "User(last_name='Kumar', first_name='Suyash', age=1000, email='suyash@suyashkumar.com')"
      ]
     },
     "execution_count": 18,
     "metadata": {},
     "output_type": "execute_result"
    }
   ],
   "source": [
    "u.save()"
   ]
  },
  {
   "cell_type": "markdown",
   "metadata": {},
   "source": [
    "The user is now stored in the MongoDB database!"
   ]
  },
  {
   "cell_type": "markdown",
   "metadata": {},
   "source": [
    "### Add more Users!\n",
    "Let's add some more Users to this database:"
   ]
  },
  {
   "cell_type": "code",
   "execution_count": 19,
   "metadata": {},
   "outputs": [
    {
     "data": {
      "text/plain": [
       "User(last_name='Smith', first_name='Bob', age=2000, email='bob@test.com')"
      ]
     },
     "execution_count": 19,
     "metadata": {},
     "output_type": "execute_result"
    }
   ],
   "source": [
    "u2 = User(email=\"mark@test.com\", first_name=\"Mark\", last_name=\"Palmeri\", age=\"2000\")\n",
    "u2.save()\n",
    "u3 = User(email=\"bob@test.com\", first_name=\"Bob\", last_name=\"Smith\", age=\"2000\")\n",
    "u3.save()"
   ]
  },
  {
   "cell_type": "markdown",
   "metadata": {},
   "source": [
    "## Query Users\n",
    "We can now search for **all** Users in our database as follows."
   ]
  },
  {
   "cell_type": "code",
   "execution_count": 20,
   "metadata": {},
   "outputs": [
    {
     "name": "stdout",
     "output_type": "stream",
     "text": [
      "suyash@suyashkumar.com\n",
      "mark@test.com\n",
      "bob@test.com\n"
     ]
    }
   ],
   "source": [
    "for user in User.objects.raw({}):\n",
    "    print(user.email)"
   ]
  },
  {
   "cell_type": "markdown",
   "metadata": {},
   "source": [
    "As you can see, the `user` variable inside the loop is just an instance of the class `User` we created earlier! We can work with the `user` variable just like we are used to working with classes. We can even modify `user` and then call `user.save()` if we wanted to update the user.\n",
    "\n",
    "We can also choose to **filter** the `User`s we want to query with conditions like this:"
   ]
  },
  {
   "cell_type": "code",
   "execution_count": 23,
   "metadata": {},
   "outputs": [
    {
     "name": "stdout",
     "output_type": "stream",
     "text": [
      "mark@test.com\n",
      "bob@test.com\n"
     ]
    }
   ],
   "source": [
    "for user in User.objects.raw({\"age\": 2000}):\n",
    "    print(user.email)"
   ]
  },
  {
   "cell_type": "markdown",
   "metadata": {},
   "source": [
    "As you can see, only `mark` and `bob` have an \"age\" equal to 2000, so only those Users are fetched to iterate over.\n",
    "\n",
    "If we expect that a certain query should only return one result, or we just want the first User of a query we can do the following:"
   ]
  },
  {
   "cell_type": "code",
   "execution_count": 24,
   "metadata": {},
   "outputs": [
    {
     "data": {
      "text/plain": [
       "'Mark'"
      ]
     },
     "execution_count": 24,
     "metadata": {},
     "output_type": "execute_result"
    }
   ],
   "source": [
    "mark_user = User.objects.raw({\"first_name\": \"Mark\"}).first()\n",
    "mark_user.first_name"
   ]
  },
  {
   "cell_type": "markdown",
   "metadata": {},
   "source": [
    "If we want to look at a range of possible results, we use comparisons.  Details on Comparison Query Operators in MongoDB can be found at <https://docs.mongodb.com/manual/reference/operator/query-comparison/>.  Below is example syntax of a greater than or equal query."
   ]
  },
  {
   "cell_type": "code",
   "execution_count": 30,
   "metadata": {},
   "outputs": [
    {
     "name": "stdout",
     "output_type": "stream",
     "text": [
      "Suyash\n",
      "Mark\n",
      "Bob\n"
     ]
    }
   ],
   "source": [
    "for user in User.objects.raw({\"age\": {\"$gte\": 1000}}):\n",
    "    print(user.first_name)"
   ]
  },
  {
   "cell_type": "markdown",
   "metadata": {},
   "source": [
    "### Query and Update Users\n",
    "As mentioned earlier, you can actually fetch a user from the database, update it in python, and call `save()` to update that user in the database. For example if we wanted to update Bob's age:\n"
   ]
  },
  {
   "cell_type": "code",
   "execution_count": 31,
   "metadata": {},
   "outputs": [
    {
     "data": {
      "text/plain": [
       "User(last_name='Smith', first_name='Bob', age=9000, email='bob@test.com')"
      ]
     },
     "execution_count": 31,
     "metadata": {},
     "output_type": "execute_result"
    }
   ],
   "source": [
    "bob_user = User.objects.raw({\"first_name\": \"Bob\"}).first()\n",
    "bob_user.age = 9000\n",
    "bob_user.save()"
   ]
  },
  {
   "cell_type": "markdown",
   "metadata": {},
   "source": [
    "### Query by primary key\n",
    "\n",
    "One thing you will notice is that we cannot query users using the email field. This is because we set `email` to be the `primary_key` when we defined our `User` model/schema. When you are looking for a single user, usually you should try to query by whatever the primary_key is."
   ]
  },
  {
   "cell_type": "code",
   "execution_count": 32,
   "metadata": {},
   "outputs": [
    {
     "ename": "DoesNotExist",
     "evalue": "",
     "traceback": [
      "\u001b[1;31m---------------------------------------------------------------------------\u001b[0m",
      "\u001b[1;31mStopIteration\u001b[0m                             Traceback (most recent call last)",
      "\u001b[1;32md:\\classrepos\\mongodb\\venv\\lib\\site-packages\\pymodm\\queryset.py\u001b[0m in \u001b[0;36mfirst\u001b[1;34m(self)\u001b[0m\n\u001b[0;32m    126\u001b[0m         \u001b[1;32mtry\u001b[0m\u001b[1;33m:\u001b[0m\u001b[1;33m\u001b[0m\u001b[0m\n\u001b[1;32m--> 127\u001b[1;33m             \u001b[1;32mreturn\u001b[0m \u001b[0mnext\u001b[0m\u001b[1;33m(\u001b[0m\u001b[0miter\u001b[0m\u001b[1;33m(\u001b[0m\u001b[0mself\u001b[0m\u001b[1;33m.\u001b[0m\u001b[0mlimit\u001b[0m\u001b[1;33m(\u001b[0m\u001b[1;33m-\u001b[0m\u001b[1;36m1\u001b[0m\u001b[1;33m)\u001b[0m\u001b[1;33m)\u001b[0m\u001b[1;33m)\u001b[0m\u001b[1;33m\u001b[0m\u001b[0m\n\u001b[0m\u001b[0;32m    128\u001b[0m         \u001b[1;32mexcept\u001b[0m \u001b[0mStopIteration\u001b[0m\u001b[1;33m:\u001b[0m\u001b[1;33m\u001b[0m\u001b[0m\n",
      "\u001b[1;31mStopIteration\u001b[0m: ",
      "\nDuring handling of the above exception, another exception occurred:\n",
      "\u001b[1;31mDoesNotExist\u001b[0m                              Traceback (most recent call last)",
      "\u001b[1;32m<ipython-input-32-0055e66ace05>\u001b[0m in \u001b[0;36m<module>\u001b[1;34m\u001b[0m\n\u001b[1;32m----> 1\u001b[1;33m \u001b[0msuyash\u001b[0m \u001b[1;33m=\u001b[0m \u001b[0mUser\u001b[0m\u001b[1;33m.\u001b[0m\u001b[0mobjects\u001b[0m\u001b[1;33m.\u001b[0m\u001b[0mraw\u001b[0m\u001b[1;33m(\u001b[0m\u001b[1;33m{\u001b[0m\u001b[1;34m\"email\"\u001b[0m\u001b[1;33m:\u001b[0m \u001b[1;34m\"suyash@suyashkumar.com\"\u001b[0m\u001b[1;33m}\u001b[0m\u001b[1;33m)\u001b[0m\u001b[1;33m.\u001b[0m\u001b[0mfirst\u001b[0m\u001b[1;33m(\u001b[0m\u001b[1;33m)\u001b[0m  \u001b[1;31m# this will NOT work\u001b[0m\u001b[1;33m\u001b[0m\u001b[0m\n\u001b[0m",
      "\u001b[1;32md:\\classrepos\\mongodb\\venv\\lib\\site-packages\\pymodm\\queryset.py\u001b[0m in \u001b[0;36mfirst\u001b[1;34m(self)\u001b[0m\n\u001b[0;32m    127\u001b[0m             \u001b[1;32mreturn\u001b[0m \u001b[0mnext\u001b[0m\u001b[1;33m(\u001b[0m\u001b[0miter\u001b[0m\u001b[1;33m(\u001b[0m\u001b[0mself\u001b[0m\u001b[1;33m.\u001b[0m\u001b[0mlimit\u001b[0m\u001b[1;33m(\u001b[0m\u001b[1;33m-\u001b[0m\u001b[1;36m1\u001b[0m\u001b[1;33m)\u001b[0m\u001b[1;33m)\u001b[0m\u001b[1;33m)\u001b[0m\u001b[1;33m\u001b[0m\u001b[0m\n\u001b[0;32m    128\u001b[0m         \u001b[1;32mexcept\u001b[0m \u001b[0mStopIteration\u001b[0m\u001b[1;33m:\u001b[0m\u001b[1;33m\u001b[0m\u001b[0m\n\u001b[1;32m--> 129\u001b[1;33m             \u001b[1;32mraise\u001b[0m \u001b[0mself\u001b[0m\u001b[1;33m.\u001b[0m\u001b[0m_model\u001b[0m\u001b[1;33m.\u001b[0m\u001b[0mDoesNotExist\u001b[0m\u001b[1;33m(\u001b[0m\u001b[1;33m)\u001b[0m\u001b[1;33m\u001b[0m\u001b[0m\n\u001b[0m\u001b[0;32m    130\u001b[0m \u001b[1;33m\u001b[0m\u001b[0m\n\u001b[0;32m    131\u001b[0m     \u001b[1;32mdef\u001b[0m \u001b[0maggregate\u001b[0m\u001b[1;33m(\u001b[0m\u001b[0mself\u001b[0m\u001b[1;33m,\u001b[0m \u001b[1;33m*\u001b[0m\u001b[0mpipeline\u001b[0m\u001b[1;33m,\u001b[0m \u001b[1;33m**\u001b[0m\u001b[0mkwargs\u001b[0m\u001b[1;33m)\u001b[0m\u001b[1;33m:\u001b[0m\u001b[1;33m\u001b[0m\u001b[0m\n",
      "\u001b[1;31mDoesNotExist\u001b[0m: "
     ],
     "output_type": "error"
    }
   ],
   "source": [
    "suyash = User.objects.raw({\"email\": \"suyash@suyashkumar.com\"}).first()  # this will NOT work"
   ]
  },
  {
   "cell_type": "markdown",
   "metadata": {},
   "source": [
    "Instead we must query primary key fields by the key `\"_id\"` like so:"
   ]
  },
  {
   "cell_type": "code",
   "execution_count": 33,
   "metadata": {},
   "outputs": [
    {
     "data": {
      "text/plain": [
       "'Suyash'"
      ]
     },
     "execution_count": 33,
     "metadata": {},
     "output_type": "execute_result"
    }
   ],
   "source": [
    "suyash = User.objects.raw({\"_id\": \"suyash@suyashkumar.com\"}).first()\n",
    "suyash.first_name"
   ]
  },
  {
   "cell_type": "code",
   "execution_count": null,
   "metadata": {},
   "outputs": [],
   "source": []
  }
 ],
 "metadata": {
  "kernelspec": {
   "display_name": "Python 3",
   "language": "python",
   "name": "python3"
  },
  "language_info": {
   "codemirror_mode": {
    "name": "ipython",
    "version": 3
   },
   "file_extension": ".py",
   "mimetype": "text/x-python",
   "name": "python",
   "nbconvert_exporter": "python",
   "pygments_lexer": "ipython3",
   "version": "3.7.2"
  }
 },
 "nbformat": 4,
 "nbformat_minor": 2
}
