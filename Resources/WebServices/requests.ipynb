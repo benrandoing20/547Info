{
 "cells": [
  {
   "cell_type": "markdown",
   "metadata": {},
   "source": [
    "# Make RESTful API Requests from Python\n",
    "\n",
    "To make RESTful API requests to web services from our python programs, we will be using the `requests` package. Let's make a request to web server that has data for countries from around the world. The request below will return the different regions of the world into which the countries are grouped.\n",
    "\n",
    "__Note:__ If you receive errors from the requests below, the server may be turned off.  To check server status, visit <http://vcm-7631.vm.duke.edu:5000>.  If you do not receive a \"Server On\" message, it is currently shut down.  Please contact Dr. Ward to activiate the server for your use.\n",
    "\n",
    "## GET Requests"
   ]
  },
  {
   "cell_type": "code",
   "execution_count": 3,
   "metadata": {},
   "outputs": [],
   "source": [
    "import requests\n",
    "r = requests.get(\"http://vcm-7631.vm.duke.edu:5000/regions\")"
   ]
  },
  {
   "cell_type": "markdown",
   "metadata": {},
   "source": [
    "The `r` represents the completed request object. Let's see what we got back from our request"
   ]
  },
  {
   "cell_type": "code",
   "execution_count": 4,
   "metadata": {},
   "outputs": [
    {
     "name": "stdout",
     "output_type": "stream",
     "text": [
      "<class 'str'>\n",
      "[\"ASIA\",\"EUROPE_EASTERN\",\"AFRICA_NORTHERN\",\"OCEANIA\",\"EUROPE_WESTERN\",\"AFRICA_SOUTHERN\",\"LATIN_AMER_CARIB\",\"CIS\",\"NEAR_EAST\",\"NORTHERN AMERICA\",\"BALTICS\"]\n",
      "\n"
     ]
    }
   ],
   "source": [
    "print(type(r.text))\n",
    "print(r.text)"
   ]
  },
  {
   "cell_type": "markdown",
   "metadata": {},
   "source": [
    "Above is the raw string response we received from the server. Pretty cool, eh? The problem is that this is a string, not a list. Typically servers will send clients JSON responses back and the client will have to parse them. The `requests` library has a great built in way to do that."
   ]
  },
  {
   "cell_type": "code",
   "execution_count": 6,
   "metadata": {},
   "outputs": [
    {
     "name": "stdout",
     "output_type": "stream",
     "text": [
      "<class 'list'>\n",
      "['ASIA', 'EUROPE_EASTERN', 'AFRICA_NORTHERN', 'OCEANIA', 'EUROPE_WESTERN', 'AFRICA_SOUTHERN', 'LATIN_AMER_CARIB', 'CIS', 'NEAR_EAST', 'NORTHERN AMERICA', 'BALTICS']\n"
     ]
    }
   ],
   "source": [
    "region_list = r.json()\n",
    "print(type(region_list))\n",
    "print(region_list)"
   ]
  },
  {
   "cell_type": "markdown",
   "metadata": {},
   "source": [
    "Now we have `region_list` and can use it just like we normally use lists in python!"
   ]
  },
  {
   "cell_type": "code",
   "execution_count": 7,
   "metadata": {},
   "outputs": [
    {
     "data": {
      "text/plain": [
       "'ASIA'"
      ]
     },
     "execution_count": 7,
     "metadata": {},
     "output_type": "execute_result"
    }
   ],
   "source": [
    "region_list[0]"
   ]
  },
  {
   "cell_type": "markdown",
   "metadata": {},
   "source": [
    "We can make a different request to the website to get a list of countries in a particular region."
   ]
  },
  {
   "cell_type": "code",
   "execution_count": 9,
   "metadata": {},
   "outputs": [
    {
     "name": "stdout",
     "output_type": "stream",
     "text": [
      "[{'country': 'Andorra', 'country_code': 'Andorra'}, {'country': 'Austria', 'country_code': 'Austria'}, {'country': 'Belgium', 'country_code': 'Belgium'}, {'country': 'Denmark', 'country_code': 'Denmark'}, {'country': 'Faroe Islands', 'country_code': 'FaroeIslands'}, {'country': 'Finland', 'country_code': 'Finland'}, {'country': 'France', 'country_code': 'France'}, {'country': 'Germany', 'country_code': 'Germany'}, {'country': 'Gibraltar', 'country_code': 'Gibraltar'}, {'country': 'Greece', 'country_code': 'Greece'}, {'country': 'Guernsey', 'country_code': 'Guernsey'}, {'country': 'Iceland', 'country_code': 'Iceland'}, {'country': 'Ireland', 'country_code': 'Ireland'}, {'country': 'Isle of Man', 'country_code': 'IsleofMan'}, {'country': 'Italy', 'country_code': 'Italy'}, {'country': 'Jersey', 'country_code': 'Jersey'}, {'country': 'Liechtenstein', 'country_code': 'Liechtenstein'}, {'country': 'Luxembourg', 'country_code': 'Luxembourg'}, {'country': 'Malta', 'country_code': 'Malta'}, {'country': 'Monaco', 'country_code': 'Monaco'}, {'country': 'Netherlands', 'country_code': 'Netherlands'}, {'country': 'Norway', 'country_code': 'Norway'}, {'country': 'Portugal', 'country_code': 'Portugal'}, {'country': 'San Marino', 'country_code': 'SanMarino'}, {'country': 'Spain', 'country_code': 'Spain'}, {'country': 'Sweden', 'country_code': 'Sweden'}, {'country': 'Switzerland', 'country_code': 'Switzerland'}, {'country': 'United Kingdom', 'country_code': 'UnitedKingdom'}]\n"
     ]
    }
   ],
   "source": [
    "r2 = requests.get(\"http://vcm-7631.vm.duke.edu:5000/region/EUROPE_WESTERN\")\n",
    "region_info = r2.json()\n",
    "print(region_info)"
   ]
  },
  {
   "cell_type": "markdown",
   "metadata": {},
   "source": [
    "Let's make another request and get information about a country.  To do that, we need to send the `country_code` from the list above as part of the request."
   ]
  },
  {
   "cell_type": "code",
   "execution_count": 10,
   "metadata": {},
   "outputs": [
    {
     "name": "stdout",
     "output_type": "stream",
     "text": [
      "{'area': '103000', 'country': 'Iceland', 'country_code': 'Iceland', 'gdp': '30900', 'literacy': '99.9', 'population': '299388', 'region': 'EUROPE_WESTERN'}\n"
     ]
    }
   ],
   "source": [
    "r3 = requests.get(\"http://vcm-7631.vm.duke.edu:5000/Iceland\") # Gets the last 1 day of temps from Kenya-Central\n",
    "country_info = r3.json()\n",
    "print(country_info)"
   ]
  },
  {
   "cell_type": "markdown",
   "metadata": {},
   "source": [
    "We can make a request for a specific piece of information as follows."
   ]
  },
  {
   "cell_type": "code",
   "execution_count": 11,
   "metadata": {},
   "outputs": [
    {
     "name": "stdout",
     "output_type": "stream",
     "text": [
      "{'country': 'Iceland', 'population': '299388'}\n"
     ]
    }
   ],
   "source": [
    "r4 = requests.get(\"http://vcm-7631.vm.duke.edu:5000/Iceland/population\")\n",
    "print(r4.json())"
   ]
  },
  {
   "cell_type": "markdown",
   "metadata": {},
   "source": [
    "Different country properties can be accessed by substituting the dictionary key word in the URL.  Try different countries and properties.  For example `r=requests.get(\"http://vcm-7631.vm.duke.edu:5000/UnitedKingdom/gdp\")`"
   ]
  },
  {
   "cell_type": "code",
   "execution_count": 12,
   "metadata": {},
   "outputs": [
    {
     "name": "stdout",
     "output_type": "stream",
     "text": [
      "{'country': 'United Kingdom', 'gdp': '27700'}\n"
     ]
    }
   ],
   "source": [
    "r5 = requests.get(\"http://vcm-7631.vm.duke.edu:5000/UnitedKingdom/gdp\")\n",
    "print(r5.json())"
   ]
  },
  {
   "cell_type": "markdown",
   "metadata": {},
   "source": [
    "## POST Requests\n",
    "POST requests are a type of request typically used to send or \"POST\" data to a server for processing or storage (all POST requests also receive a response)."
   ]
  },
  {
   "cell_type": "code",
   "execution_count": 13,
   "metadata": {},
   "outputs": [
    {
     "name": "stdout",
     "output_type": "stream",
     "text": [
      "  name        Spain                 Sweden              \n",
      "  pop.        40397842              9016596              \n",
      "  area        504782                449964               \n",
      "  gdp         22000                 26800                \n",
      "  literacy    97.9                  99                   \n",
      "\n"
     ]
    }
   ],
   "source": [
    "country_compare = {\"one\": \"Spain\", \"two\": \"Sweden\"}\n",
    "r6 = requests.post(\"http://vcm-7631.vm.duke.edu:5000/compare\", json=country_compare)\n",
    "sum_result = r6.json()\n",
    "print(sum_result)\n",
    "# print(\"The response was {0}.\".format(sum_result['result']))"
   ]
  }
 ],
 "metadata": {
  "kernelspec": {
   "display_name": "Python 3",
   "language": "python",
   "name": "python3"
  },
  "language_info": {
   "codemirror_mode": {
    "name": "ipython",
    "version": 3
   },
   "file_extension": ".py",
   "mimetype": "text/x-python",
   "name": "python",
   "nbconvert_exporter": "python",
   "pygments_lexer": "ipython3",
   "version": "3.7.0"
  }
 },
 "nbformat": 4,
 "nbformat_minor": 2
}
